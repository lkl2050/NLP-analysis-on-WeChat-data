{
 "cells": [
  {
   "cell_type": "code",
   "execution_count": 1,
   "metadata": {},
   "outputs": [],
   "source": [
    "import pandas as pd\n",
    "import numpy as np\n",
    "import jieba\n",
    "from sklearn.feature_extraction.text import TfidfVectorizer, CountVectorizer\n",
    "from sklearn.decomposition import LatentDirichletAllocation\n",
    "import datetime\n",
    "\n",
    "from sklearn import datasets, linear_model\n",
    "from sklearn.metrics import mean_squared_error, r2_score\n",
    "\n",
    "from statsmodels.formula.api  import ols\n",
    "import statsmodels.api as sm\n",
    "from sklearn.model_selection import train_test_split\n",
    "\n",
    "from keras.models import Sequential\n",
    "from keras.layers import Dense\n",
    "from keras import layers\n",
    "from keras.wrappers.scikit_learn import KerasRegressor\n",
    "from sklearn.model_selection import cross_val_score\n",
    "from sklearn.model_selection import KFold\n",
    "from sklearn.preprocessing import StandardScaler\n",
    "from sklearn.pipeline import Pipeline\n",
    "\n",
    "#rawdata = pd.read_csv (r'/Users/cairo/Google Drive/wechat data/016.csv', encoding='utf-8')\n",
    "#topicdata = pd.read_csv(r'/Users/Junhao/Google Drive/wechat data/TopicOutcomeAll30Topic.csv', sep=',', error_bad_lines=False, index_col=False, dtype='unicode')\n",
    "\n"
   ]
  },
  {
   "cell_type": "code",
   "execution_count": 2,
   "metadata": {},
   "outputs": [],
   "source": [
    "\n",
    "#topicdata = pd.read_csv(r'/Users/cairo/Google Drive/wechat data/TopicOutcomeAll20Topic.csv', sep=',', error_bad_lines=False, index_col=False, dtype='unicode')\n",
    "topicdata = pd.read_csv(r'C:/Users/Junhao/Google Drive/wechat data/TopicOutcomeAll20Topic.csv', sep=',', error_bad_lines=False, index_col=False, dtype='unicode')\n",
    " "
   ]
  },
  {
   "cell_type": "code",
   "execution_count": 4,
   "metadata": {},
   "outputs": [],
   "source": [
    "topicdata = topicdata.head(100)"
   ]
  },
  {
   "cell_type": "code",
   "execution_count": 5,
   "metadata": {},
   "outputs": [],
   "source": [
    "\n",
    "#Q1: Which topics can predict the best influencer performance (indicated by likes and clicks of posts) in different lifespan of the account; what is the optimal level of topic diversity?\n",
    "\n",
    "#Q4: To what extent should an account follow the hot topics in news? What is the optimal balance(i.e., topic proportion)  of following trending topics vs. sticking to account expertise? For instance, should an account on fitness share articles about the US election? (This might need extra data about hot news topic in Chinese media)\n",
    "\n",
    "\n",
    "##################################\n",
    "#linear regression and XGboost\n",
    "##################################\n",
    "\n",
    "\n",
    "###############################################################################################\n",
    "#prepare data\n",
    "topicdata.head()\n",
    "\n",
    "\n",
    "y = topicdata.likeCount\n",
    "\n",
    "#X = topicdata[topicdata.columns[-30:]]\n",
    "X0 = topicdata.iloc[:,-20:]\n",
    "X1 = topicdata[[\"clicksCount\", \"orderNum\", \"originalFlag\"]]\n",
    "\n",
    "X = pd.concat([X0, X1], axis=1)\n",
    "X = sm.add_constant(X) #add a intercept term to the regression\n",
    "#X.reset_index(drop=True)\n",
    "\n",
    "#X.index = pd.RangeIndex(len(X.index))\n",
    "\n",
    "X_train, X_test, y_train, y_test = train_test_split(X, y, test_size=0.2, random_state=123)\n",
    "\n"
   ]
  },
  {
   "cell_type": "code",
   "execution_count": null,
   "metadata": {},
   "outputs": [],
   "source": [
    "\n",
    "###############################################################################################\n",
    "#linear regression with all variables\n",
    "results = sm.OLS(y.astype(float), X.astype(float)).fit()\n",
    "results.summary()\n",
    "\n",
    "#linear regression with only the topic variables\n",
    "results2 = sm.OLS(y.astype(float), X0.astype(float)).fit()\n",
    "results2.summary()\n",
    "\n"
   ]
  },
  {
   "cell_type": "code",
   "execution_count": 12,
   "metadata": {},
   "outputs": [
    {
     "data": {
      "text/plain": [
       "0.7631773760984928"
      ]
     },
     "execution_count": 12,
     "metadata": {},
     "output_type": "execute_result"
    }
   ],
   "source": [
    "from sklearn.linear_model import LinearRegression\n",
    "reg = LinearRegression().fit(X_train, y_train)\n",
    "reg.score(X_train, y_train)"
   ]
  },
  {
   "cell_type": "code",
   "execution_count": 15,
   "metadata": {},
   "outputs": [
    {
     "name": "stdout",
     "output_type": "stream",
     "text": [
      "RMSE: 222.141753\n"
     ]
    },
    {
     "data": {
      "text/plain": [
       "49346.95839651909"
      ]
     },
     "execution_count": 15,
     "metadata": {},
     "output_type": "execute_result"
    }
   ],
   "source": [
    "from sklearn.metrics import mean_squared_error, r2_score\n",
    "preds = reg.predict(X_test)\n",
    "\n",
    "rmse = np.sqrt(mean_squared_error(y_test.astype(float), preds))\n",
    "print(\"RMSE: %f\" % (rmse))\n",
    "\n",
    "mean_squared_error(y_test, preds)"
   ]
  },
  {
   "cell_type": "code",
   "execution_count": null,
   "metadata": {},
   "outputs": [],
   "source": [
    "###############################################################################################\n",
    "#xgboost regression\n",
    "from xgboost.sklearn import XGBRegressor\n",
    "xg_reg = xgb.XGBRegressor(objective ='reg:linear', colsample_bytree = 0.3, learning_rate = 0.1,\n",
    "                max_depth = 5, alpha = 10, n_estimators = 10)\n",
    "\n",
    "xg_reg.fit(X_train.astype(float),y_train.astype(float))\n",
    "\n",
    "preds = xg_reg.predict(X_test.astype(float))\n",
    "\n",
    "rmse = np.sqrt(mean_squared_error(y_test.astype(float), preds))\n",
    "print(\"RMSE: %f\" % (rmse))\n",
    "\n",
    "mean_squared_error(y_test, preds)\n",
    "\n",
    "\n"
   ]
  },
  {
   "cell_type": "code",
   "execution_count": null,
   "metadata": {},
   "outputs": [],
   "source": [
    "###############################################################################################\n",
    "#######################\n",
    "#regression in neural networks with keras\n",
    "######################\n",
    "input_dim = X_train.shape[1]  # Number of features\n",
    "\n",
    "model = Sequential()\n",
    "model.add(layers.Dense(10, input_dim=input_dim, activation='relu'))\n",
    "model.add(layers.Dense(64, input_dim=input_dim, activation='relu'))\n",
    "model.add(layers.Dense(1, activation='relu'))\n",
    "\n",
    "model.compile(loss='mean_squared_error', \n",
    "              optimizer='adam',\n",
    "              metrics=['mean_absolute_percentage_error']\n",
    "              \n",
    "              )\n",
    "model.summary()\n",
    "\n",
    "history = model.fit(X_train , y_train,\n",
    "                    epochs=5,\n",
    "                    verbose=True,\n",
    "                    #steps_per_epoch=5,\n",
    "                    \n",
    "                    validation_data=(X_test, y_test),\n",
    "                    batch_size=300\n",
    "                    )\n",
    "\n",
    "hist = pd.DataFrame(history.history)\n",
    "hist['epoch'] = history.epoch\n",
    "hist.tail()"
   ]
  }
 ],
 "metadata": {
  "kernelspec": {
   "display_name": "Python 3",
   "language": "python",
   "name": "python3"
  },
  "language_info": {
   "codemirror_mode": {
    "name": "ipython",
    "version": 3
   },
   "file_extension": ".py",
   "mimetype": "text/x-python",
   "name": "python",
   "nbconvert_exporter": "python",
   "pygments_lexer": "ipython3",
   "version": "3.8.5"
  }
 },
 "nbformat": 4,
 "nbformat_minor": 4
}
