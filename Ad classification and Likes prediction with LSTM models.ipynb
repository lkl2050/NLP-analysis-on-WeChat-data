{
 "cells": [
  {
   "cell_type": "code",
   "execution_count": 102,
   "id": "bbac8b59",
   "metadata": {},
   "outputs": [],
   "source": [
    "import pandas as pd\n",
    "import re\n",
    "import jieba as jb\n",
    "import tensorflow as tf\n",
    "from sklearn.model_selection import train_test_split\n",
    "import matplotlib.pyplot as plt\n",
    "import numpy as np\n",
    "\n",
    "#from text_cleaner import remove\n",
    "#from text_cleaner.processor.chinese import CHINESE, CHINESE_SYMBOLS_AND_PUNCTUATION\n",
    "\n"
   ]
  },
  {
   "cell_type": "code",
   "execution_count": 123,
   "id": "a8b946b2",
   "metadata": {},
   "outputs": [],
   "source": [
    "df = pd.read_csv(r'/Users/cairo/Google Drive/wechat data/ad data/AntzbBackData10k.csv', sep=',', error_bad_lines=False, index_col=False, dtype='unicode')\n",
    "\n",
    "df=df[[\"account\", 'advertisement','title', \"content\", \"clicksCount\", \"orderNum\", \"originalFlag\", \"likeCount\", \"publicTime\"]]\n",
    "\n",
    "df[df.isnull().values==True]\n",
    "df = df[pd.notnull(df['title'])]\n",
    "df = df[pd.notnull(df['content'])]\n",
    "df = df[pd.notnull(df['advertisement'])]\n",
    "\n",
    "df[\"publicTime\"] = pd.to_datetime(df[\"publicTime\"])\n",
    "#df[\"publicTime\"] = dd[\"publicTime\"].dt.to_period('D')\n",
    "df[\"clicksCount\"] = df[\"clicksCount\"].astype(float)\n",
    "df[\"likeCount\"] = df[\"likeCount\"].astype(float)\n",
    "df[\"orderNum\"] = df[\"orderNum\"].astype(float)\n",
    "df[\"originalFlag\"] = df[\"originalFlag\"].astype(float)"
   ]
  },
  {
   "cell_type": "code",
   "execution_count": 124,
   "id": "e1f018c5",
   "metadata": {},
   "outputs": [
    {
     "data": {
      "text/plain": [
       "944"
      ]
     },
     "execution_count": 124,
     "metadata": {},
     "output_type": "execute_result"
    }
   ],
   "source": [
    "df['account'].nunique() "
   ]
  },
  {
   "cell_type": "code",
   "execution_count": 22,
   "id": "b41d40cc",
   "metadata": {},
   "outputs": [
    {
     "data": {
      "text/plain": [
       "C    6846\n",
       "A    1935\n",
       "B    1214\n",
       "Name: advertisement, dtype: int64"
      ]
     },
     "execution_count": 22,
     "metadata": {},
     "output_type": "execute_result"
    }
   ],
   "source": [
    "df['advertisement'].value_counts()"
   ]
  },
  {
   "cell_type": "code",
   "execution_count": 29,
   "id": "14621b76",
   "metadata": {},
   "outputs": [],
   "source": [
    "#Text preprocessing\n",
    "\n",
    "rule = re.compile(u\"[^a-zA-Z0-9\\u4E00-\\u9FA5]\")\n",
    "def remove_punctuation(line):\n",
    "    line = rule.sub('',str(line))\n",
    "    return line\n",
    "\n",
    "\n",
    "def stopwordslist(filepath):  \n",
    "    stopwords = [line.strip() for line in open(filepath, 'r', encoding='utf-8').readlines()]  \n",
    "    return stopwords  \n",
    " \n",
    "#load the stopword file\n",
    "stopwords = stopwordslist(\"/Users/cairo/Google Drive/wechat data/stopword.txt\")\n",
    "\n",
    "\n",
    "\n",
    "line = str(df[\"content\"][0])\n",
    "line\n",
    "\n",
    "line.strip()\n",
    "\n",
    "line.strip()==''\n",
    "\n",
    "rule = re.compile(u\"[^a-zA-Z0-9\\u4E00-\\u9FA5]\")\n",
    "\n",
    "line2 = rule.sub('',line)\n",
    "\n"
   ]
  },
  {
   "cell_type": "code",
   "execution_count": 30,
   "id": "e9d443b4",
   "metadata": {},
   "outputs": [],
   "source": [
    "# Clean title and content of the articles separately\n",
    "\n",
    "df['clean_title'] = df['title'].map(lambda x: re.sub('\\W+','', x))\n",
    "\n",
    "df['clean_content'] = df['content'].map(lambda x: re.sub('\\W+','', x))\n",
    "\n",
    "\n",
    "df['cut_title'] = df['clean_title'].apply(lambda x: \" \".join([w for w in list(jb.cut(x)) if w not in stopwords]))\n",
    "\n",
    "df['cut_content'] = df['clean_content'].apply(lambda x: \" \".join([w for w in list(jb.cut(x)) if w not in stopwords]))\n",
    "\n",
    "\n",
    "#The combined text emphasized on the text in title by repeating it three times\n",
    "df['combined_text'] = df['cut_title'] + df['cut_title'] + df['cut_title'] + df['cut_content']\n",
    "\n"
   ]
  },
  {
   "cell_type": "code",
   "execution_count": 69,
   "id": "97fad3b3",
   "metadata": {},
   "outputs": [
    {
     "name": "stdout",
     "output_type": "stream",
     "text": [
      "There are 23871 unique words\n",
      "There are 310898 unique words\n",
      "(9997, 550)\n",
      "(9997, 3)\n"
     ]
    }
   ],
   "source": [
    "\n",
    "MAX_NB_WORDS = 50000\n",
    "# set max sequence length\n",
    "MAX_SEQUENCE_LENGTH_title = 50\n",
    "MAX_SEQUENCE_LENGTH_content = 500\n",
    "# set Embeddingceng dimensions\n",
    "EMBEDDING_DIM = 100 \n",
    "tokenizer = tf.keras.preprocessing.text.Tokenizer(num_words=MAX_NB_WORDS, filters='!\"#$%&()*+,-./:;<=>?@[\\]^_`{|}~', lower=True)\n",
    "\n",
    "tokenizer.fit_on_texts(df['cut_title'].values)\n",
    "word_index = tokenizer.word_index\n",
    "print('There are %s unique words' % len(word_index))\n",
    "X = tokenizer.texts_to_sequences(df['cut_title'].values)\n",
    "X = tf.keras.preprocessing.sequence.pad_sequences(X, maxlen=MAX_SEQUENCE_LENGTH_title) #padding \n",
    "\n",
    "\n",
    "tokenizer.fit_on_texts(df['cut_content'].values)\n",
    "word_index = tokenizer.word_index\n",
    "print('There are %s unique words' % len(word_index))\n",
    "X = tokenizer.texts_to_sequences(df['cut_content'].values)\n",
    "X = tf.keras.preprocessing.sequence.pad_sequences(X, maxlen=MAX_SEQUENCE_LENGTH_content) \n",
    "\n",
    "\n",
    "tokenizer.fit_on_texts(df['combined_text'].values)\n",
    "word_index = tokenizer.word_index\n",
    "X = tokenizer.texts_to_sequences(df['combined_text'].values)\n",
    "X = tf.keras.preprocessing.sequence.pad_sequences(X, maxlen=MAX_SEQUENCE_LENGTH_title + MAX_SEQUENCE_LENGTH_content)\n",
    "\n",
    " \n",
    "#onehot coding the dependent variable\n",
    "Y = pd.get_dummies(df['advertisement']).values\n",
    " \n",
    "Y2 = df['likeCount'].values\n",
    "\n",
    "print(X.shape)\n",
    "print(Y.shape)\n",
    "\n",
    "X_train, X_test, Y_train, Y_test = train_test_split(X,Y, test_size = 0.20, random_state = 42)\n",
    "#print(X_train.shape,Y_train.shape)\n",
    "#print(X_test.shape,Y_test.shape)\n",
    "\n",
    "X_train, X_test, Y2_train, Y2_test = train_test_split(X,Y2, test_size = 0.20, random_state = 42)"
   ]
  },
  {
   "cell_type": "code",
   "execution_count": 12,
   "id": "47781b27",
   "metadata": {},
   "outputs": [
    {
     "name": "stdout",
     "output_type": "stream",
     "text": [
      "Model: \"sequential_3\"\n",
      "_________________________________________________________________\n",
      "Layer (type)                 Output Shape              Param #   \n",
      "=================================================================\n",
      "embedding_3 (Embedding)      (None, 550, 100)          5000000   \n",
      "_________________________________________________________________\n",
      "lstm_4 (LSTM)                (None, 32)                17024     \n",
      "_________________________________________________________________\n",
      "dense_3 (Dense)              (None, 3)                 99        \n",
      "=================================================================\n",
      "Total params: 5,017,123\n",
      "Trainable params: 5,017,123\n",
      "Non-trainable params: 0\n",
      "_________________________________________________________________\n",
      "None\n",
      "Model: \"sequential_4\"\n",
      "_________________________________________________________________\n",
      "Layer (type)                 Output Shape              Param #   \n",
      "=================================================================\n",
      "embedding_4 (Embedding)      (None, 550, 100)          5000000   \n",
      "_________________________________________________________________\n",
      "bidirectional_1 (Bidirection (None, 200)               160800    \n",
      "_________________________________________________________________\n",
      "dense_4 (Dense)              (None, 3)                 603       \n",
      "=================================================================\n",
      "Total params: 5,161,403\n",
      "Trainable params: 5,161,403\n",
      "Non-trainable params: 0\n",
      "_________________________________________________________________\n",
      "None\n",
      "Model: \"sequential_5\"\n",
      "_________________________________________________________________\n",
      "Layer (type)                 Output Shape              Param #   \n",
      "=================================================================\n",
      "embedding_5 (Embedding)      (None, 550, 100)          5000000   \n",
      "_________________________________________________________________\n",
      "lstm_6 (LSTM)                (None, 550, 32)           17024     \n",
      "_________________________________________________________________\n",
      "lstm_7 (LSTM)                (None, 32)                8320      \n",
      "_________________________________________________________________\n",
      "dense_5 (Dense)              (None, 3)                 99        \n",
      "=================================================================\n",
      "Total params: 5,025,443\n",
      "Trainable params: 5,025,443\n",
      "Non-trainable params: 0\n",
      "_________________________________________________________________\n",
      "None\n"
     ]
    }
   ],
   "source": [
    "######## Models for ad classifcation \n",
    "#vanila LSTM \n",
    "model1 = tf.keras.Sequential()\n",
    "model1.add(tf.keras.layers.Embedding(MAX_NB_WORDS, EMBEDDING_DIM, input_length=X.shape[1]))\n",
    "model1.add(tf.keras.layers.LSTM(32, dropout=0.2, recurrent_dropout=0.2))  \n",
    "model1.add(tf.keras.layers.Dense(3, activation='softmax'))\n",
    "model1.compile(loss='categorical_crossentropy', optimizer='adam', metrics=[tf.keras.metrics.CategoricalAccuracy(), tf.keras.metrics.Precision(), tf.keras.metrics.Recall()])\n",
    "print(model1.summary())\n",
    "\n",
    "#bidirectional LSTM \n",
    "model2 = tf.keras.Sequential()\n",
    "model2.add(tf.keras.layers.Embedding(MAX_NB_WORDS, EMBEDDING_DIM, input_length=X.shape[1]))\n",
    "model2.add(tf.keras.layers.Bidirectional(tf.keras.layers.LSTM(100, dropout=0.2, recurrent_dropout=0.2)))\n",
    "model2.add(tf.keras.layers.Dense(3, activation='softmax'))\n",
    "model2.compile(loss='categorical_crossentropy', optimizer='adam', metrics=[tf.keras.metrics.CategoricalAccuracy(), tf.keras.metrics.Precision(), tf.keras.metrics.Recall()])\n",
    "print(model2.summary())\n",
    "\n",
    "\n",
    "#stack two LSTM together\n",
    "model3 = tf.keras.Sequential()\n",
    "model3.add(tf.keras.layers.Embedding(MAX_NB_WORDS, EMBEDDING_DIM, input_length=X.shape[1]))\n",
    "model3.add(tf.keras.layers.LSTM(32, dropout=0.2, recurrent_dropout=0.2, return_sequences=True))  \n",
    "model3.add(tf.keras.layers.LSTM(32))\n",
    "model3.add(tf.keras.layers.Dense(3, activation='softmax'))\n",
    "model3.compile(loss='categorical_crossentropy', optimizer='adam', metrics=[tf.keras.metrics.CategoricalAccuracy(), tf.keras.metrics.Precision(), tf.keras.metrics.Recall()])\n",
    "print(model3.summary())\n"
   ]
  },
  {
   "cell_type": "code",
   "execution_count": 19,
   "id": "a6e333bd",
   "metadata": {},
   "outputs": [
    {
     "name": "stdout",
     "output_type": "stream",
     "text": [
      "Epoch 1/20\n",
      "125/125 [==============================] - 90s 716ms/step - loss: 0.0470 - categorical_accuracy: 0.9845 - precision_3: 0.9863 - recall_3: 0.9840 - val_loss: 0.7679 - val_categorical_accuracy: 0.7970 - val_precision_3: 0.8053 - val_recall_3: 0.7908\n",
      "Epoch 2/20\n",
      "125/125 [==============================] - 105s 830ms/step - loss: 0.0354 - categorical_accuracy: 0.9886 - precision_3: 0.9897 - recall_3: 0.9871 - val_loss: 0.7953 - val_categorical_accuracy: 0.8095 - val_precision_3: 0.8114 - val_recall_3: 0.8033\n",
      "Epoch 3/20\n",
      "125/125 [==============================] - 64s 508ms/step - loss: 0.0273 - categorical_accuracy: 0.9914 - precision_3: 0.9921 - recall_3: 0.9909 - val_loss: 0.8015 - val_categorical_accuracy: 0.8005 - val_precision_3: 0.8079 - val_recall_3: 0.7958\n",
      "Epoch 1/20\n",
      "125/125 [==============================] - 199s 2s/step - loss: 0.0194 - categorical_accuracy: 0.9939 - precision_4: 0.9940 - recall_4: 0.9935 - val_loss: 0.8965 - val_categorical_accuracy: 0.8060 - val_precision_4: 0.8086 - val_recall_4: 0.8013\n",
      "Epoch 2/20\n",
      "125/125 [==============================] - 206s 2s/step - loss: 0.0191 - categorical_accuracy: 0.9942 - precision_4: 0.9945 - recall_4: 0.9939 - val_loss: 0.8210 - val_categorical_accuracy: 0.8115 - val_precision_4: 0.8155 - val_recall_4: 0.8098\n",
      "Epoch 3/20\n",
      "125/125 [==============================] - 198s 2s/step - loss: 0.0177 - categorical_accuracy: 0.9945 - precision_4: 0.9950 - recall_4: 0.9944 - val_loss: 0.8207 - val_categorical_accuracy: 0.8295 - val_precision_4: 0.8364 - val_recall_4: 0.8238\n",
      "Epoch 4/20\n",
      "125/125 [==============================] - 200s 2s/step - loss: 0.0155 - categorical_accuracy: 0.9956 - precision_4: 0.9961 - recall_4: 0.9955 - val_loss: 0.8547 - val_categorical_accuracy: 0.8175 - val_precision_4: 0.8251 - val_recall_4: 0.8148\n",
      "Epoch 5/20\n",
      "125/125 [==============================] - 201s 2s/step - loss: 0.0118 - categorical_accuracy: 0.9967 - precision_4: 0.9969 - recall_4: 0.9965 - val_loss: 0.8480 - val_categorical_accuracy: 0.8025 - val_precision_4: 0.8055 - val_recall_4: 0.8023\n",
      "Epoch 1/20\n",
      "125/125 [==============================] - 129s 1s/step - loss: 0.0577 - categorical_accuracy: 0.9816 - precision_5: 0.9827 - recall_5: 0.9806 - val_loss: 0.8050 - val_categorical_accuracy: 0.7775 - val_precision_5: 0.7854 - val_recall_5: 0.7768\n",
      "Epoch 2/20\n",
      "125/125 [==============================] - 112s 893ms/step - loss: 0.0377 - categorical_accuracy: 0.9889 - precision_5: 0.9900 - recall_5: 0.9885 - val_loss: 0.8506 - val_categorical_accuracy: 0.7970 - val_precision_5: 0.7988 - val_recall_5: 0.7948\n",
      "Epoch 3/20\n",
      "125/125 [==============================] - 107s 856ms/step - loss: 0.0315 - categorical_accuracy: 0.9910 - precision_5: 0.9916 - recall_5: 0.9907 - val_loss: 0.8654 - val_categorical_accuracy: 0.7935 - val_precision_5: 0.7969 - val_recall_5: 0.7913\n"
     ]
    }
   ],
   "source": [
    "#########\n",
    "epochs = 20\n",
    "batch_size = 64\n",
    " \n",
    "history1 = model1.fit(X, Y, epochs=epochs, batch_size=batch_size,validation_split=0.2, shuffle=True,\n",
    "                    callbacks=[tf.keras.callbacks.EarlyStopping(monitor='val_loss', patience=2, min_delta=0.000001)])\n",
    "\n",
    "history2 = model2.fit(X, Y, epochs=epochs, batch_size=batch_size,validation_split=0.2, shuffle=True,\n",
    "                    callbacks=[tf.keras.callbacks.EarlyStopping(monitor='val_loss', patience=2, min_delta=0.000001)])\n",
    "\n",
    "history3 = model3.fit(X, Y, epochs=epochs, batch_size=batch_size,validation_split=0.2, shuffle=True,\n",
    "                    callbacks=[tf.keras.callbacks.EarlyStopping(monitor='val_loss', patience=2, min_delta=0.000001)])\n",
    "\n",
    "#history = model.fit(X_train, Y_train, epochs=epochs, batch_size=batch_size,validation_split=0.2, shuffle=True)\n"
   ]
  },
  {
   "cell_type": "code",
   "execution_count": 56,
   "id": "a898f847",
   "metadata": {},
   "outputs": [
    {
     "data": {
      "image/png": "[encoded data removed]",
      "text/plain": [
       "<Figure size 432x288 with 1 Axes>"
      ]
     },
     "metadata": {
      "needs_background": "light"
     },
     "output_type": "display_data"
    }
   ],
   "source": [
    "\n",
    "plt.title('Accuracy')\n",
    "plt.xlabel('epoch')\n",
    "plt.plot(history1.history['categorical_accuracy'], label='train_lstm', color = \"red\")\n",
    "plt.plot(history1.history['val_categorical_accuracy'], label='test_lstm', linestyle='--', color = \"red\")\n",
    "plt.plot(history2.history['categorical_accuracy'], label='train_bidirect', color = \"navy\")\n",
    "plt.plot(history2.history['val_categorical_accuracy'], label='test_bidirect', linestyle='--', color = \"navy\")\n",
    "plt.plot(history3.history['categorical_accuracy'], label='train_stack', color = \"gold\")\n",
    "plt.plot(history3.history['val_categorical_accuracy'], label='test_stack', linestyle='--', color = \"gold\")\n",
    "plt.legend()\n",
    "plt.show()\n",
    "\n"
   ]
  },
  {
   "cell_type": "code",
   "execution_count": 21,
   "id": "3244a835",
   "metadata": {},
   "outputs": [
    {
     "data": {
      "image/png": "[encoded data removed]",
      "text/plain": [
       "<Figure size 432x288 with 1 Axes>"
      ]
     },
     "metadata": {
      "needs_background": "light"
     },
     "output_type": "display_data"
    }
   ],
   "source": [
    "plt.title('Loss')\n",
    "plt.xlabel('epoch')\n",
    "plt.plot(history1.history['loss'], label='train_lstm', color = \"red\")\n",
    "plt.plot(history1.history['val_loss'], label='test_lstm', linestyle='--', color = \"red\")\n",
    "plt.plot(history2.history['loss'], label='train_bilstm', color = \"navy\")\n",
    "plt.plot(history2.history['val_loss'], label='test_bilstm', linestyle='--', color = \"navy\")\n",
    "plt.plot(history3.history['loss'], label='train_stack', color = \"gold\")\n",
    "plt.plot(history3.history['val_loss'], label='test_stack', linestyle='--', color = \"gold\")\n",
    "plt.legend()\n",
    "plt.show()"
   ]
  },
  {
   "cell_type": "code",
   "execution_count": null,
   "id": "717f2877",
   "metadata": {},
   "outputs": [],
   "source": [
    "\n",
    "plt.title('Recall')\n",
    "plt.plot(history1.history['recall_6'], label='train')\n",
    "plt.plot(history1.history['val_recall_6'], label='test')\n",
    "plt.legend()\n",
    "plt.show()\n",
    "\n",
    "plt.title('Precision')\n",
    "plt.plot(history1.history['precision_6'], label='train')\n",
    "plt.plot(history1.history['val_precision_6'], label='test')\n",
    "plt.legend()\n",
    "plt.show()"
   ]
  },
  {
   "cell_type": "code",
   "execution_count": 46,
   "id": "de898126",
   "metadata": {},
   "outputs": [
    {
     "name": "stdout",
     "output_type": "stream",
     "text": [
      "Model: \"sequential_21\"\n",
      "_________________________________________________________________\n",
      "Layer (type)                 Output Shape              Param #   \n",
      "=================================================================\n",
      "embedding_21 (Embedding)     (None, 550, 100)          5000000   \n",
      "_________________________________________________________________\n",
      "lstm_28 (LSTM)               (None, 32)                17024     \n",
      "_________________________________________________________________\n",
      "dense_21 (Dense)             (None, 1)                 33        \n",
      "=================================================================\n",
      "Total params: 5,017,057\n",
      "Trainable params: 5,017,057\n",
      "Non-trainable params: 0\n",
      "_________________________________________________________________\n",
      "None\n",
      "Model: \"sequential_22\"\n",
      "_________________________________________________________________\n",
      "Layer (type)                 Output Shape              Param #   \n",
      "=================================================================\n",
      "embedding_22 (Embedding)     (None, 550, 100)          5000000   \n",
      "_________________________________________________________________\n",
      "bidirectional_7 (Bidirection (None, 200)               160800    \n",
      "_________________________________________________________________\n",
      "dense_22 (Dense)             (None, 1)                 201       \n",
      "=================================================================\n",
      "Total params: 5,161,001\n",
      "Trainable params: 5,161,001\n",
      "Non-trainable params: 0\n",
      "_________________________________________________________________\n",
      "None\n",
      "Model: \"sequential_23\"\n",
      "_________________________________________________________________\n",
      "Layer (type)                 Output Shape              Param #   \n",
      "=================================================================\n",
      "embedding_23 (Embedding)     (None, 550, 100)          5000000   \n",
      "_________________________________________________________________\n",
      "lstm_30 (LSTM)               (None, 550, 32)           17024     \n",
      "_________________________________________________________________\n",
      "lstm_31 (LSTM)               (None, 32)                8320      \n",
      "_________________________________________________________________\n",
      "dense_23 (Dense)             (None, 1)                 33        \n",
      "=================================================================\n",
      "Total params: 5,025,377\n",
      "Trainable params: 5,025,377\n",
      "Non-trainable params: 0\n",
      "_________________________________________________________________\n",
      "None\n"
     ]
    }
   ],
   "source": [
    "######## Models for regression\n",
    "#vanila LSTM \n",
    "model1a = tf.keras.Sequential()\n",
    "model1a.add(tf.keras.layers.Embedding(MAX_NB_WORDS, EMBEDDING_DIM, input_length=X.shape[1]))\n",
    "model1a.add(tf.keras.layers.LSTM(32, dropout=0.2, recurrent_dropout=0.2))  \n",
    "model1a.add(tf.keras.layers.Dense(1))\n",
    "model1a.compile(loss='mean_squared_error', optimizer='adam', metrics=[tf.keras.metrics.MeanAbsolutePercentageError(),tf.keras.metrics.MeanSquaredError()])\n",
    "print(model1a.summary())\n",
    "\n",
    "#bidirectional LSTM \n",
    "model2a = tf.keras.Sequential()\n",
    "model2a.add(tf.keras.layers.Embedding(MAX_NB_WORDS, EMBEDDING_DIM, input_length=X.shape[1]))\n",
    "model2a.add(tf.keras.layers.Bidirectional(tf.keras.layers.LSTM(100, dropout=0.2, recurrent_dropout=0.2)))\n",
    "model2a.add(tf.keras.layers.Dense(1))\n",
    "model2a.compile(loss='mean_squared_error', optimizer='adam', metrics=[tf.keras.metrics.MeanAbsolutePercentageError(),tf.keras.metrics.MeanSquaredError()])\n",
    "print(model2a.summary())\n",
    "\n",
    "\n",
    "#stack two LSTM together\n",
    "model3a = tf.keras.Sequential()\n",
    "model3a.add(tf.keras.layers.Embedding(MAX_NB_WORDS, EMBEDDING_DIM, input_length=X.shape[1]))\n",
    "model3a.add(tf.keras.layers.LSTM(32, dropout=0.2, recurrent_dropout=0.2, return_sequences=True))  \n",
    "model3a.add(tf.keras.layers.LSTM(32))\n",
    "model3a.add(tf.keras.layers.Dense(1))\n",
    "model3a.compile(loss='mean_squared_error', optimizer='adam', metrics=[tf.keras.metrics.MeanAbsolutePercentageError(),tf.keras.metrics.MeanSquaredError()])\n",
    "print(model3a.summary())\n",
    "\n"
   ]
  },
  {
   "cell_type": "code",
   "execution_count": 70,
   "id": "cc7108e5",
   "metadata": {},
   "outputs": [
    {
     "name": "stdout",
     "output_type": "stream",
     "text": [
      "Epoch 1/20\n",
      "125/125 [==============================] - 71s 516ms/step - loss: 995619.1875 - mean_absolute_percentage_error: 169764160.0000 - mean_squared_error: 995619.1875 - val_loss: 801982.9375 - val_mean_absolute_percentage_error: 251628896.0000 - val_mean_squared_error: 801982.9375\n",
      "Epoch 2/20\n",
      "125/125 [==============================] - 63s 507ms/step - loss: 990514.5000 - mean_absolute_percentage_error: 310614240.0000 - mean_squared_error: 990514.5000 - val_loss: 798229.4375 - val_mean_absolute_percentage_error: 348431776.0000 - val_mean_squared_error: 798229.4375\n",
      "Epoch 3/20\n",
      "125/125 [==============================] - 64s 508ms/step - loss: 987226.8750 - mean_absolute_percentage_error: 399142176.0000 - mean_squared_error: 987226.8750 - val_loss: 795191.6875 - val_mean_absolute_percentage_error: 428380192.0000 - val_mean_squared_error: 795191.6875\n",
      "Epoch 4/20\n",
      "125/125 [==============================] - 65s 520ms/step - loss: 984486.3125 - mean_absolute_percentage_error: 471008512.0000 - mean_squared_error: 984486.3125 - val_loss: 792516.9375 - val_mean_absolute_percentage_error: 499857568.0000 - val_mean_squared_error: 792516.9375\n",
      "Epoch 5/20\n",
      "125/125 [==============================] - 64s 511ms/step - loss: 982020.7500 - mean_absolute_percentage_error: 545662592.0000 - mean_squared_error: 982020.7500 - val_loss: 790093.1250 - val_mean_absolute_percentage_error: 565180992.0000 - val_mean_squared_error: 790093.1250\n",
      "Epoch 6/20\n",
      "125/125 [==============================] - 63s 504ms/step - loss: 979725.5000 - mean_absolute_percentage_error: 606210240.0000 - mean_squared_error: 979725.5000 - val_loss: 787803.3125 - val_mean_absolute_percentage_error: 624186368.0000 - val_mean_squared_error: 787803.3125\n",
      "Epoch 7/20\n",
      "125/125 [==============================] - 63s 506ms/step - loss: 977544.8125 - mean_absolute_percentage_error: 651780672.0000 - mean_squared_error: 977544.8125 - val_loss: 785619.5625 - val_mean_absolute_percentage_error: 662350912.0000 - val_mean_squared_error: 785619.5625\n",
      "Epoch 8/20\n",
      "125/125 [==============================] - 64s 511ms/step - loss: 975429.1250 - mean_absolute_percentage_error: 649470592.0000 - mean_squared_error: 975429.1250 - val_loss: 783645.4375 - val_mean_absolute_percentage_error: 689264320.0000 - val_mean_squared_error: 783645.4375\n",
      "Epoch 9/20\n",
      "125/125 [==============================] - 68s 547ms/step - loss: 973371.8125 - mean_absolute_percentage_error: 606619904.0000 - mean_squared_error: 973371.8125 - val_loss: 781896.5625 - val_mean_absolute_percentage_error: 698490560.0000 - val_mean_squared_error: 781896.5625\n",
      "Epoch 10/20\n",
      "125/125 [==============================] - 64s 512ms/step - loss: 971383.8750 - mean_absolute_percentage_error: 590750848.0000 - mean_squared_error: 971383.8750 - val_loss: 780264.5000 - val_mean_absolute_percentage_error: 717259456.0000 - val_mean_squared_error: 780264.5000\n",
      "Epoch 11/20\n",
      "125/125 [==============================] - 64s 509ms/step - loss: 969444.0000 - mean_absolute_percentage_error: 555163648.0000 - mean_squared_error: 969444.0000 - val_loss: 778809.9375 - val_mean_absolute_percentage_error: 735836672.0000 - val_mean_squared_error: 778809.9375\n",
      "Epoch 12/20\n",
      "125/125 [==============================] - 64s 508ms/step - loss: 967526.6875 - mean_absolute_percentage_error: 507710496.0000 - mean_squared_error: 967526.6875 - val_loss: 777480.6875 - val_mean_absolute_percentage_error: 730264896.0000 - val_mean_squared_error: 777480.6875\n",
      "Epoch 13/20\n",
      "125/125 [==============================] - 63s 505ms/step - loss: 965604.1875 - mean_absolute_percentage_error: 451874816.0000 - mean_squared_error: 965604.1875 - val_loss: 775941.5000 - val_mean_absolute_percentage_error: 748943872.0000 - val_mean_squared_error: 775941.5000\n",
      "Epoch 14/20\n",
      "125/125 [==============================] - 70s 564ms/step - loss: 963670.4375 - mean_absolute_percentage_error: 390604896.0000 - mean_squared_error: 963670.4375 - val_loss: 775086.1875 - val_mean_absolute_percentage_error: 583350784.0000 - val_mean_squared_error: 775086.1875\n",
      "Epoch 15/20\n",
      "125/125 [==============================] - 63s 503ms/step - loss: 961718.1875 - mean_absolute_percentage_error: 269009824.0000 - mean_squared_error: 961718.1875 - val_loss: 773633.5000 - val_mean_absolute_percentage_error: 531053760.0000 - val_mean_squared_error: 773633.5000\n",
      "Epoch 16/20\n",
      "125/125 [==============================] - 63s 502ms/step - loss: 959785.8750 - mean_absolute_percentage_error: 226921312.0000 - mean_squared_error: 959785.8750 - val_loss: 771949.9375 - val_mean_absolute_percentage_error: 626380288.0000 - val_mean_squared_error: 771949.9375\n",
      "Epoch 17/20\n",
      "125/125 [==============================] - 63s 503ms/step - loss: 957909.5625 - mean_absolute_percentage_error: 210120640.0000 - mean_squared_error: 957909.5625 - val_loss: 771199.0000 - val_mean_absolute_percentage_error: 517168192.0000 - val_mean_squared_error: 771199.0000\n",
      "Epoch 18/20\n",
      "125/125 [==============================] - 66s 526ms/step - loss: 956076.2500 - mean_absolute_percentage_error: 196785408.0000 - mean_squared_error: 956076.2500 - val_loss: 768835.0625 - val_mean_absolute_percentage_error: 701663936.0000 - val_mean_squared_error: 768835.0625\n",
      "Epoch 19/20\n",
      "125/125 [==============================] - 63s 506ms/step - loss: 954294.9375 - mean_absolute_percentage_error: 182204656.0000 - mean_squared_error: 954294.9375 - val_loss: 768174.4375 - val_mean_absolute_percentage_error: 502431328.0000 - val_mean_squared_error: 768174.4375\n",
      "Epoch 20/20\n",
      "125/125 [==============================] - 63s 502ms/step - loss: 952452.1250 - mean_absolute_percentage_error: 173208672.0000 - mean_squared_error: 952452.1250 - val_loss: 766807.0000 - val_mean_absolute_percentage_error: 478805376.0000 - val_mean_squared_error: 766807.0000\n",
      "Epoch 1/20\n",
      "125/125 [==============================] - 214s 2s/step - loss: 974180.3125 - mean_absolute_percentage_error: 804296256.0000 - mean_squared_error: 974180.3125 - val_loss: 766917.1875 - val_mean_absolute_percentage_error: 1262762112.0000 - val_mean_squared_error: 766917.1875\n",
      "Epoch 2/20\n",
      "125/125 [==============================] - 200s 2s/step - loss: 950672.9375 - mean_absolute_percentage_error: 1574698880.0000 - mean_squared_error: 950672.9375 - val_loss: 751780.2500 - val_mean_absolute_percentage_error: 1807634816.0000 - val_mean_squared_error: 751780.2500\n",
      "Epoch 3/20\n",
      "125/125 [==============================] - 202s 2s/step - loss: 939039.6250 - mean_absolute_percentage_error: 2085473408.0000 - mean_squared_error: 939039.6250 - val_loss: 742151.3750 - val_mean_absolute_percentage_error: 2221154304.0000 - val_mean_squared_error: 742151.3750\n",
      "Epoch 4/20\n",
      "125/125 [==============================] - 200s 2s/step - loss: 931105.4375 - mean_absolute_percentage_error: 2403095808.0000 - mean_squared_error: 931105.4375 - val_loss: 735564.8125 - val_mean_absolute_percentage_error: 2246213632.0000 - val_mean_squared_error: 735564.8125\n",
      "Epoch 5/20\n",
      "125/125 [==============================] - 306s 2s/step - loss: 922547.3750 - mean_absolute_percentage_error: 1976390912.0000 - mean_squared_error: 922547.3750 - val_loss: 731285.3125 - val_mean_absolute_percentage_error: 1987039616.0000 - val_mean_squared_error: 731285.3125\n",
      "Epoch 6/20\n",
      "125/125 [==============================] - 298s 2s/step - loss: 913217.3125 - mean_absolute_percentage_error: 1838883584.0000 - mean_squared_error: 913217.3125 - val_loss: 725191.5000 - val_mean_absolute_percentage_error: 1994602880.0000 - val_mean_squared_error: 725191.5000\n",
      "Epoch 7/20\n",
      "125/125 [==============================] - 282s 2s/step - loss: 903062.4375 - mean_absolute_percentage_error: 1825296384.0000 - mean_squared_error: 903062.4375 - val_loss: 719591.6250 - val_mean_absolute_percentage_error: 2078903808.0000 - val_mean_squared_error: 719591.6250\n",
      "Epoch 8/20\n",
      "125/125 [==============================] - 285s 2s/step - loss: 893667.2500 - mean_absolute_percentage_error: 1869494912.0000 - mean_squared_error: 893667.2500 - val_loss: 715490.2500 - val_mean_absolute_percentage_error: 2143448832.0000 - val_mean_squared_error: 715490.2500\n",
      "Epoch 9/20\n"
     ]
    },
    {
     "name": "stdout",
     "output_type": "stream",
     "text": [
      "125/125 [==============================] - 215s 2s/step - loss: 886103.7500 - mean_absolute_percentage_error: 1944836224.0000 - mean_squared_error: 886103.7500 - val_loss: 714392.1250 - val_mean_absolute_percentage_error: 2228860416.0000 - val_mean_squared_error: 714392.1250\n",
      "Epoch 10/20\n",
      "125/125 [==============================] - 239s 2s/step - loss: 878934.3750 - mean_absolute_percentage_error: 1969614080.0000 - mean_squared_error: 878934.3750 - val_loss: 724824.2500 - val_mean_absolute_percentage_error: 2008506112.0000 - val_mean_squared_error: 724824.2500\n",
      "Epoch 11/20\n",
      "125/125 [==============================] - 304s 2s/step - loss: 873268.0625 - mean_absolute_percentage_error: 2091314176.0000 - mean_squared_error: 873268.0625 - val_loss: 708983.1250 - val_mean_absolute_percentage_error: 2439692800.0000 - val_mean_squared_error: 708983.1250\n",
      "Epoch 12/20\n",
      "125/125 [==============================] - 384s 3s/step - loss: 866292.3125 - mean_absolute_percentage_error: 2056521600.0000 - mean_squared_error: 866292.3125 - val_loss: 700679.1875 - val_mean_absolute_percentage_error: 2640231168.0000 - val_mean_squared_error: 700679.1875\n",
      "Epoch 13/20\n",
      "125/125 [==============================] - 244s 2s/step - loss: 860071.3750 - mean_absolute_percentage_error: 2072371584.0000 - mean_squared_error: 860071.3750 - val_loss: 697788.7500 - val_mean_absolute_percentage_error: 2579060480.0000 - val_mean_squared_error: 697788.7500\n",
      "Epoch 14/20\n",
      "125/125 [==============================] - 217s 2s/step - loss: 853247.0000 - mean_absolute_percentage_error: 1983100928.0000 - mean_squared_error: 853247.0000 - val_loss: 698752.0625 - val_mean_absolute_percentage_error: 2353897216.0000 - val_mean_squared_error: 698752.0625\n",
      "Epoch 15/20\n",
      "125/125 [==============================] - 237s 2s/step - loss: 848526.9375 - mean_absolute_percentage_error: 1994126336.0000 - mean_squared_error: 848526.9375 - val_loss: 697434.6250 - val_mean_absolute_percentage_error: 2349303296.0000 - val_mean_squared_error: 697434.6250\n",
      "Epoch 16/20\n",
      "125/125 [==============================] - 222s 2s/step - loss: 840840.4375 - mean_absolute_percentage_error: 1862278400.0000 - mean_squared_error: 840840.4375 - val_loss: 694318.3125 - val_mean_absolute_percentage_error: 2195065344.0000 - val_mean_squared_error: 694318.3125\n",
      "Epoch 17/20\n",
      "125/125 [==============================] - 196s 2s/step - loss: 834378.8750 - mean_absolute_percentage_error: 1648996224.0000 - mean_squared_error: 834378.8750 - val_loss: 696554.3125 - val_mean_absolute_percentage_error: 2041305344.0000 - val_mean_squared_error: 696554.3125\n",
      "Epoch 18/20\n",
      "125/125 [==============================] - 194s 2s/step - loss: 828027.2500 - mean_absolute_percentage_error: 1429760000.0000 - mean_squared_error: 828027.2500 - val_loss: 695702.5000 - val_mean_absolute_percentage_error: 2096738944.0000 - val_mean_squared_error: 695702.5000\n",
      "Epoch 1/20\n",
      "125/125 [==============================] - 89s 673ms/step - loss: 995811.0000 - mean_absolute_percentage_error: 164420800.0000 - mean_squared_error: 995811.0000 - val_loss: 802352.1250 - val_mean_absolute_percentage_error: 242388752.0000 - val_mean_squared_error: 802352.1250\n",
      "Epoch 2/20\n",
      "125/125 [==============================] - 84s 670ms/step - loss: 990953.3125 - mean_absolute_percentage_error: 291046592.0000 - mean_squared_error: 990953.3125 - val_loss: 798875.6250 - val_mean_absolute_percentage_error: 331840768.0000 - val_mean_squared_error: 798875.6250\n",
      "Epoch 3/20\n",
      "125/125 [==============================] - 87s 694ms/step - loss: 987965.9375 - mean_absolute_percentage_error: 379780640.0000 - mean_squared_error: 987965.9375 - val_loss: 796027.5625 - val_mean_absolute_percentage_error: 406523552.0000 - val_mean_squared_error: 796027.5625\n",
      "Epoch 4/20\n",
      "125/125 [==============================] - 85s 681ms/step - loss: 985405.6250 - mean_absolute_percentage_error: 453799584.0000 - mean_squared_error: 985405.6250 - val_loss: 793557.7500 - val_mean_absolute_percentage_error: 472368064.0000 - val_mean_squared_error: 793557.7500\n",
      "Epoch 5/20\n",
      "125/125 [==============================] - 92s 734ms/step - loss: 983085.1250 - mean_absolute_percentage_error: 514455648.0000 - mean_squared_error: 983085.1250 - val_loss: 791241.9375 - val_mean_absolute_percentage_error: 535063232.0000 - val_mean_squared_error: 791241.9375\n",
      "Epoch 6/20\n",
      "125/125 [==============================] - 94s 748ms/step - loss: 980917.3125 - mean_absolute_percentage_error: 579061440.0000 - mean_squared_error: 980917.3125 - val_loss: 789080.5625 - val_mean_absolute_percentage_error: 594444288.0000 - val_mean_squared_error: 789080.5625\n",
      "Epoch 7/20\n",
      "125/125 [==============================] - 82s 659ms/step - loss: 978862.8750 - mean_absolute_percentage_error: 638540928.0000 - mean_squared_error: 978862.8750 - val_loss: 787007.6875 - val_mean_absolute_percentage_error: 652224960.0000 - val_mean_squared_error: 787007.6875\n",
      "Epoch 8/20\n",
      "125/125 [==============================] - 84s 669ms/step - loss: 976899.8750 - mean_absolute_percentage_error: 698021568.0000 - mean_squared_error: 976899.8750 - val_loss: 785005.1875 - val_mean_absolute_percentage_error: 708846400.0000 - val_mean_squared_error: 785005.1875\n",
      "Epoch 9/20\n",
      "125/125 [==============================] - 83s 666ms/step - loss: 975008.3750 - mean_absolute_percentage_error: 751721152.0000 - mean_squared_error: 975008.3750 - val_loss: 783108.3750 - val_mean_absolute_percentage_error: 763236416.0000 - val_mean_squared_error: 783108.3750\n",
      "Epoch 10/20\n",
      "125/125 [==============================] - 84s 676ms/step - loss: 973195.0000 - mean_absolute_percentage_error: 813184256.0000 - mean_squared_error: 973195.0000 - val_loss: 781226.3125 - val_mean_absolute_percentage_error: 817964736.0000 - val_mean_squared_error: 781226.3125\n",
      "Epoch 11/20\n",
      "125/125 [==============================] - 82s 660ms/step - loss: 971438.5625 - mean_absolute_percentage_error: 865532416.0000 - mean_squared_error: 971438.5625 - val_loss: 779468.1250 - val_mean_absolute_percentage_error: 869800064.0000 - val_mean_squared_error: 779468.1250\n",
      "Epoch 12/20\n",
      "125/125 [==============================] - 83s 661ms/step - loss: 969740.6250 - mean_absolute_percentage_error: 918181184.0000 - mean_squared_error: 969740.6250 - val_loss: 777715.7500 - val_mean_absolute_percentage_error: 922170496.0000 - val_mean_squared_error: 777715.7500\n",
      "Epoch 13/20\n",
      "125/125 [==============================] - 87s 697ms/step - loss: 968085.9375 - mean_absolute_percentage_error: 973073024.0000 - mean_squared_error: 968085.9375 - val_loss: 776040.0000 - val_mean_absolute_percentage_error: 972922816.0000 - val_mean_squared_error: 776040.0000\n",
      "Epoch 14/20\n",
      "125/125 [==============================] - 103s 826ms/step - loss: 966476.8750 - mean_absolute_percentage_error: 1024080384.0000 - mean_squared_error: 966476.8750 - val_loss: 774384.9375 - val_mean_absolute_percentage_error: 1023737216.0000 - val_mean_squared_error: 774384.9375\n",
      "Epoch 15/20\n",
      "125/125 [==============================] - 102s 821ms/step - loss: 964904.7500 - mean_absolute_percentage_error: 1073153280.0000 - mean_squared_error: 964904.7500 - val_loss: 772757.6250 - val_mean_absolute_percentage_error: 1074403072.0000 - val_mean_squared_error: 772757.6250\n",
      "Epoch 16/20\n",
      "125/125 [==============================] - 130s 1s/step - loss: 963366.2500 - mean_absolute_percentage_error: 1124568704.0000 - mean_squared_error: 963366.2500 - val_loss: 771207.6875 - val_mean_absolute_percentage_error: 1123351040.0000 - val_mean_squared_error: 771207.6875\n",
      "Epoch 17/20\n",
      "125/125 [==============================] - 98s 785ms/step - loss: 961873.9375 - mean_absolute_percentage_error: 1179699968.0000 - mean_squared_error: 961873.9375 - val_loss: 769654.4375 - val_mean_absolute_percentage_error: 1173076480.0000 - val_mean_squared_error: 769654.4375\n",
      "Epoch 18/20\n",
      "125/125 [==============================] - 99s 796ms/step - loss: 960359.7500 - mean_absolute_percentage_error: 1226586624.0000 - mean_squared_error: 960359.7500 - val_loss: 768007.8750 - val_mean_absolute_percentage_error: 1225350016.0000 - val_mean_squared_error: 768007.8750\n",
      "Epoch 19/20\n"
     ]
    },
    {
     "name": "stdout",
     "output_type": "stream",
     "text": [
      "125/125 [==============================] - 104s 829ms/step - loss: 958477.9375 - mean_absolute_percentage_error: 1096582784.0000 - mean_squared_error: 958477.9375 - val_loss: 766140.8750 - val_mean_absolute_percentage_error: 1074234624.0000 - val_mean_squared_error: 766140.8750\n",
      "Epoch 20/20\n",
      "125/125 [==============================] - 119s 955ms/step - loss: 956143.2500 - mean_absolute_percentage_error: 601336704.0000 - mean_squared_error: 956143.2500 - val_loss: 764702.8750 - val_mean_absolute_percentage_error: 921368384.0000 - val_mean_squared_error: 764702.8750\n"
     ]
    }
   ],
   "source": [
    "#########\n",
    "epochs = 20\n",
    "batch_size = 64\n",
    " \n",
    "history1a = model1a.fit(X, Y2, epochs=epochs, batch_size=batch_size,validation_split=0.2, shuffle=True,\n",
    "                    callbacks=[tf.keras.callbacks.EarlyStopping(monitor='val_loss', patience=2, min_delta=0.000001)])\n",
    "\n",
    "history2a = model2a.fit(X, Y2, epochs=epochs, batch_size=batch_size,validation_split=0.2, shuffle=True,\n",
    "                    callbacks=[tf.keras.callbacks.EarlyStopping(monitor='val_loss', patience=2, min_delta=0.000001)])\n",
    "\n",
    "history3a = model3a.fit(X, Y2, epochs=epochs, batch_size=batch_size,validation_split=0.2, shuffle=True,\n",
    "                    callbacks=[tf.keras.callbacks.EarlyStopping(monitor='val_loss', patience=2, min_delta=0.000001)])\n",
    "\n"
   ]
  },
  {
   "cell_type": "code",
   "execution_count": 75,
   "id": "c2db4c59",
   "metadata": {},
   "outputs": [
    {
     "data": {
      "image/png": "[encoded data removed]",
      "text/plain": [
       "<Figure size 432x288 with 1 Axes>"
      ]
     },
     "metadata": {
      "needs_background": "light"
     },
     "output_type": "display_data"
    }
   ],
   "source": [
    "plt.title('Mean squared error')\n",
    "plt.xlabel('epoch')\n",
    "plt.plot(history1a.history['mean_squared_error'], label='train_lstm', color = \"red\")\n",
    "plt.plot(history1a.history['val_mean_squared_error'], label='test_lstm', linestyle='--', color = \"red\")\n",
    "plt.plot(history2a.history['mean_squared_error'], label='train_bidirect', color = \"navy\")\n",
    "plt.plot(history2a.history['val_mean_squared_error'], label='test_bidirect', linestyle='--', color = \"navy\")\n",
    "plt.plot(history3a.history['mean_squared_error'], label='train_stack', color = \"gold\")\n",
    "plt.plot(history3a.history['val_mean_squared_error'], label='test_stack', linestyle='--', color = \"gold\")\n",
    "plt.legend(bbox_to_anchor = (1.05, 0.6))\n",
    "plt.show()\n",
    "\n"
   ]
  },
  {
   "cell_type": "code",
   "execution_count": 74,
   "id": "da252f60",
   "metadata": {},
   "outputs": [
    {
     "data": {
      "image/png": "[encoded data removed]",
      "text/plain": [
       "<Figure size 432x288 with 1 Axes>"
      ]
     },
     "metadata": {
      "needs_background": "light"
     },
     "output_type": "display_data"
    }
   ],
   "source": [
    "plt.title('Mean absolute percentage error (MAPE)')\n",
    "plt.xlabel('epoch')\n",
    "plt.plot(history1a.history['mean_absolute_percentage_error'], label='train_lstm', color = \"red\")\n",
    "plt.plot(history1a.history['val_mean_absolute_percentage_error'], label='test_lstm', linestyle='--', color = \"red\")\n",
    "plt.plot(history2a.history['mean_absolute_percentage_error'], label='train_bidirect', color = \"navy\")\n",
    "plt.plot(history2a.history['val_mean_absolute_percentage_error'], label='test_bidirect', linestyle='--', color = \"navy\")\n",
    "plt.plot(history3a.history['mean_absolute_percentage_error'], label='train_stack', color = \"gold\")\n",
    "plt.plot(history3a.history['val_mean_absolute_percentage_error'], label='test_stack', linestyle='--', color = \"gold\")\n",
    "plt.legend(bbox_to_anchor = (1.05, 0.6))\n",
    "plt.show()"
   ]
  },
  {
   "cell_type": "code",
   "execution_count": 84,
   "id": "9352d351",
   "metadata": {},
   "outputs": [
    {
     "data": {
      "text/plain": [
       "828027.25"
      ]
     },
     "execution_count": 84,
     "metadata": {},
     "output_type": "execute_result"
    }
   ],
   "source": [
    "history2a.history['mean_squared_error'][-1]"
   ]
  },
  {
   "cell_type": "code",
   "execution_count": 88,
   "id": "f210e4ec",
   "metadata": {},
   "outputs": [
    {
     "name": "stdout",
     "output_type": "stream",
     "text": [
      "LR MSE: 1010437.907273\n"
     ]
    }
   ],
   "source": [
    "#Train a linear regression model with the non-text features to compare with the results of LSTM models\n",
    "\n",
    "from sklearn.linear_model import LinearRegression\n",
    "from sklearn import metrics\n",
    "\n",
    "X0 = df[[\"clicksCount\", \"orderNum\", \"originalFlag\"]]\n",
    "Y2 = df['likeCount'].values\n",
    "\n",
    "\n",
    "\n",
    "X0_train, X0_test, Y2_train, Y2_test = train_test_split(X,Y2, test_size = 0.20, random_state = 42)\n",
    "\n",
    "\n",
    "lr = LinearRegression()\n",
    "lr.fit(X0_train, Y2_train)\n",
    "y_pred = lr.predict(X0_test)\n",
    "\n",
    "mse_lr=metrics.mean_squared_error(Y2_test, y_pred)\n",
    "mape_lr = metrics.mean_absolute_percentage_error(Y2_test, y_pred)\n",
    "\n",
    "print(\"LR MSE: %f\" % (mse_lr))\n",
    "\n",
    "\n"
   ]
  },
  {
   "cell_type": "code",
   "execution_count": 136,
   "id": "0a0bd4ad",
   "metadata": {
    "scrolled": true
   },
   "outputs": [
    {
     "name": "stdout",
     "output_type": "stream",
     "text": [
      "SVM accuracy: 0.669835\n"
     ]
    }
   ],
   "source": [
    "from sklearn.svm import SVC\n",
    "\n",
    "from sklearn.preprocessing import MinMaxScaler\n",
    "\n",
    "X0 = df[[\"clicksCount\", \"orderNum\", \"originalFlag\"]]\n",
    "Y2 = df['advertisement']\n",
    "\n",
    "\n",
    "X0_train, X0_test, Y2_train, Y2_test = train_test_split(X0,Y2, test_size = 0.20, random_state = 42)\n",
    "\n",
    "scaling = MinMaxScaler(feature_range=(-1,1)).fit(X0_train)\n",
    "X0_train = scaling.transform(X0_train)\n",
    "X0_test = scaling.transform(X0_test)\n",
    "\n",
    "regressor= SVC(kernel='linear')\n",
    "regressor.fit(X0_train,Y2_train)\n",
    "y_pred_svm=regressor.predict(X0_test)\n",
    "#y_pred_svm = cross_val_predict(regressor, x, y)\n",
    "\n",
    "svm_mse=metrics.accuracy_score(Y2_test, y_pred_svm)\n",
    "print(\"SVM accuracy: %f\" % (svm_mse))\n",
    "\n"
   ]
  }
 ],
 "metadata": {
  "kernelspec": {
   "display_name": "Python 3",
   "language": "python",
   "name": "python3"
  }
 },
 "nbformat": 4,
 "nbformat_minor": 5
}
